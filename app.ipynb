{
 "cells": [
  {
   "cell_type": "code",
   "execution_count": 1,
   "metadata": {},
   "outputs": [],
   "source": [
    "from PIL import Image\n",
    "import numpy as np"
   ]
  },
  {
   "cell_type": "code",
   "execution_count": 2,
   "metadata": {},
   "outputs": [],
   "source": [
    "image = Image.open(\"images/cat_2.jpg\").convert(\"L\")\n",
    "image = np.array(image)"
   ]
  },
  {
   "cell_type": "code",
   "execution_count": 3,
   "metadata": {},
   "outputs": [
    {
     "name": "stdout",
     "output_type": "stream",
     "text": [
      "[[0.1 0.1 0.1]\n",
      " [0.1 0.2 0.1]\n",
      " [0.1 0.1 0.1]]\n",
      "[[ 0. -1.  0.]\n",
      " [-1. 10. -1.]\n",
      " [ 0. -1.  0.]]\n"
     ]
    }
   ],
   "source": [
    "agf = np.array((([1,1,1], [1,2,1], [1,1,1])), dtype=np.float32) * 1/10\n",
    "ygf = np.array((([0,-1,0], [-1,10,-1], [0,-1,0])), dtype=np.float32) \n",
    "\n",
    "print(agf)\n",
    "print(ygf)"
   ]
  },
  {
   "cell_type": "code",
   "execution_count": 4,
   "metadata": {},
   "outputs": [],
   "source": [
    "def apply_filter(image, kernel):\n",
    "    image_height, image_width = image.shape\n",
    "    kernel_height, kernel_width = kernel.shape\n",
    "\n",
    "    pad_x = kernel_width // 2\n",
    "    pad_y = kernel_height // 2\n",
    "\n",
    "    image = np.pad(image, ((pad_y, pad_y), (pad_x, pad_x)), mode='reflect') \n",
    "    output= np.zeros_like(image, dtype=np.float32)\n",
    "\n",
    "    for x in range(image_width):\n",
    "        for y in range(image_height):\n",
    "            region = image[y:y+kernel_height, x:x+kernel_width]\n",
    "            output[y,x] = (region * kernel).sum()\n",
    "\n",
    "    output = np.clip(output, 0, 255).astype(np.uint8)\n",
    "    return output"
   ]
  },
  {
   "cell_type": "code",
   "execution_count": 5,
   "metadata": {},
   "outputs": [
    {
     "name": "stdout",
     "output_type": "stream",
     "text": [
      "199\n",
      "0\n",
      "(855, 1282)\n",
      "255\n",
      "0\n",
      "(855, 1282)\n"
     ]
    }
   ],
   "source": [
    "output_agf = apply_filter(image, agf)\n",
    "output_ygf = apply_filter(image, ygf)\n",
    "\n",
    "print(output_agf.max())\n",
    "print(output_agf.min())\n",
    "print(output_agf.shape)\n",
    "\n",
    "print(output_ygf.max())\n",
    "print(output_ygf.min())\n",
    "print(output_ygf.shape)\n",
    "\n",
    "output_agf = Image.fromarray(output_agf)\n",
    "output_ygf = Image.fromarray(output_ygf)\n",
    "\n",
    "output_agf.save(\"images/cat_2_agf.jpg\")\n",
    "output_ygf.save(\"images/cat_2_ygf.jpg\")"
   ]
  },
  {
   "cell_type": "code",
   "execution_count": 6,
   "metadata": {},
   "outputs": [],
   "source": []
  }
 ],
 "metadata": {
  "kernelspec": {
   "display_name": "Python 3",
   "language": "python",
   "name": "python3"
  },
  "language_info": {
   "codemirror_mode": {
    "name": "ipython",
    "version": 3
   },
   "file_extension": ".py",
   "mimetype": "text/x-python",
   "name": "python",
   "nbconvert_exporter": "python",
   "pygments_lexer": "ipython3",
   "version": "3.12.7"
  }
 },
 "nbformat": 4,
 "nbformat_minor": 2
}
